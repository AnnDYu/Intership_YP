{
 "cells": [
  {
   "cell_type": "code",
   "execution_count": 253,
   "metadata": {},
   "outputs": [],
   "source": [
    "import pandas as pd\n",
    "import datetime\n",
    "import time\n",
    "import numpy as np\n",
    "from sqlalchemy import create_engine\n",
    "import pyodbc\n",
    "import matplotlib.pyplot as plt\n",
    "import seaborn as sns\n",
    "import csv\n",
    "import warnings\n",
    "from statsmodels.tsa.seasonal import seasonal_decompose \n",
    "from statsmodels.graphics.tsaplots import plot_acf, plot_pacf\n",
    "from statsmodels.tsa.stattools import adfuller,pacf,acf\n",
    "from statsmodels.tsa.arima.model import ARIMA\n",
    "from statsmodels.tsa.statespace.sarimax import SARIMAX\n",
    "from prophet import Prophet\n",
    "import autots\n",
    "from auto_ts import auto_timeseries\n",
    "from sklearn.preprocessing import StandardScaler\n",
    "from statsmodels.tsa.holtwinters import ExponentialSmoothing\n",
    "from statsmodels.tsa.holtwinters import SimpleExpSmoothing\n",
    "import pyod.models.copod\n",
    "from pyod.models.copod import COPOD\n",
    "#from catboost import CatBoostRegressor\n",
    "#from tensorflow.keras.models import Sequential\n",
    "#from tensorflow.keras.layers import Dense, SimpleRNN"
   ]
  },
  {
   "cell_type": "code",
   "execution_count": 254,
   "metadata": {},
   "outputs": [
    {
     "ename": "OperationalError",
     "evalue": "('08001', '[08001] [Microsoft][ODBC SQL Server Driver][DBNETLIB]SQL Server не существует, или доступ запрещен. (17) (SQLDriverConnect); [08001] [Microsoft][ODBC SQL Server Driver][DBNETLIB]ConnectionOpen (Connect()). (53); [08001] [Microsoft][ODBC SQL Server Driver]Недопустимый атрибут строки соединения (0)')",
     "output_type": "error",
     "traceback": [
      "\u001b[1;31m---------------------------------------------------------------------------\u001b[0m",
      "\u001b[1;31mOperationalError\u001b[0m                          Traceback (most recent call last)",
      "\u001b[1;32m~\\AppData\\Local\\Temp\\ipykernel_6280\\3178361430.py\u001b[0m in \u001b[0;36m<module>\u001b[1;34m\u001b[0m\n\u001b[1;32m----> 1\u001b[1;33m connStr = pyodbc.connect(\"\"\"DRIVER={SQL Server};\n\u001b[0m\u001b[0;32m      2\u001b[0m \u001b[0mSERVER\u001b[0m\u001b[1;33m=\u001b[0m\u001b[0mtest\u001b[0m\u001b[1;33m-\u001b[0m\u001b[0msql\u001b[0m\u001b[1;33m-\u001b[0m\u001b[1;36m0\u001b[0m\u001b[1;36m5\u001b[0m\u001b[1;33m;\u001b[0m\u001b[1;33m\u001b[0m\u001b[1;33m\u001b[0m\u001b[0m\n\u001b[0;32m      3\u001b[0m \u001b[0mDATABASE\u001b[0m\u001b[1;33m=\u001b[0m\u001b[0mGENERAL_ACCESS\u001b[0m\u001b[1;33m;\u001b[0m\u001b[1;33m\u001b[0m\u001b[1;33m\u001b[0m\u001b[0m\n\u001b[0;32m      4\u001b[0m Trusred_Connection=yes\"\"\")\n\u001b[0;32m      5\u001b[0m \u001b[0mcursor\u001b[0m\u001b[1;33m=\u001b[0m \u001b[0mconnStr\u001b[0m\u001b[1;33m.\u001b[0m\u001b[0mcursor\u001b[0m\u001b[1;33m(\u001b[0m\u001b[1;33m)\u001b[0m\u001b[1;33m\u001b[0m\u001b[1;33m\u001b[0m\u001b[0m\n",
      "\u001b[1;31mOperationalError\u001b[0m: ('08001', '[08001] [Microsoft][ODBC SQL Server Driver][DBNETLIB]SQL Server не существует, или доступ запрещен. (17) (SQLDriverConnect); [08001] [Microsoft][ODBC SQL Server Driver][DBNETLIB]ConnectionOpen (Connect()). (53); [08001] [Microsoft][ODBC SQL Server Driver]Недопустимый атрибут строки соединения (0)')"
     ]
    }
   ],
   "source": [
    "connStr = pyodbc.connect(\"\"\"DRIVER={SQL Server};\n",
    "SERVER=test-sql-05;\n",
    "DATABASE=GENERAL_ACCESS;\n",
    "Trusred_Connection=yes\"\"\")\n",
    "cursor= connStr.cursor()"
   ]
  },
  {
   "cell_type": "code",
   "execution_count": null,
   "metadata": {},
   "outputs": [],
   "source": [
    "query = \"SELECT * FROM dbo.CC_IncomeCalls\"\n",
    "income_calls = pd.read_sql(query, connStr)\n",
    "income_calls.tail()"
   ]
  },
  {
   "cell_type": "code",
   "execution_count": null,
   "metadata": {},
   "outputs": [],
   "source": [
    "query = \"SELECT * FROM dbo.CC_OnlineOrders\"\n",
    "orders = pd.read_sql(query, connStr)\n",
    "orders = orders.rename(columns = {'ORDER_DATE':'call_dt','QTY':'order_qty'})\n",
    "orders = orders.drop(orders.tail(7).index)\n",
    "orders.tail()"
   ]
  },
  {
   "cell_type": "code",
   "execution_count": null,
   "metadata": {},
   "outputs": [],
   "source": [
    "query = \"SELECT * FROM dbo.CC_MissingCalls\"\n",
    "missing_calls = pd.read_sql(query, connStr)\n",
    "missing_calls.head()"
   ]
  },
  {
   "cell_type": "code",
   "execution_count": null,
   "metadata": {},
   "outputs": [],
   "source": [
    "query = \"SELECT * FROM dbo.CC_OutcomeCalls\"\n",
    "outcome_calls = pd.read_sql(query, connStr)\n",
    "outcome_calls.head()"
   ]
  },
  {
   "cell_type": "code",
   "execution_count": null,
   "metadata": {},
   "outputs": [],
   "source": [
    "query = \"SELECT * FROM [GENERAL_ACCESS].[dbo].[СС_Discounts]\"\n",
    "discounts = pd.read_sql(query, connStr)\n",
    "discounts.head()"
   ]
  },
  {
   "cell_type": "code",
   "execution_count": null,
   "metadata": {},
   "outputs": [],
   "source": [
    "query = \"SELECT * FROM [GENERAL_ACCESS].[dbo].[СС_Sales]\"\n",
    "sales1 = pd.read_sql(query, connStr)\n",
    "sales1 = sales1.rename(columns = {'SALE_DATE':'call_dt','CHQ_QTY':'chq_qty'})\n",
    "sales1.head()"
   ]
  },
  {
   "cell_type": "code",
   "execution_count": null,
   "metadata": {},
   "outputs": [],
   "source": [
    "query = \"SELECT * FROM dbo.СС_Web_visits\"\n",
    "web_visits = pd.read_sql(query, connStr)\n",
    "web_visits.head()"
   ]
  },
  {
   "cell_type": "code",
   "execution_count": null,
   "metadata": {},
   "outputs": [],
   "source": [
    "# перевод дат в нужный формат\n",
    "missing_calls['call_dt']=pd.to_datetime(missing_calls['call_dt'], format='%Y-%m-%d')\n",
    "income_calls['call_dt']=pd.to_datetime(income_calls['call_dt'], format='%Y-%m-%d')\n",
    "outcome_calls['call_dt']=pd.to_datetime(outcome_calls['call_dt'], format='%Y-%m-%d')\n",
    "discounts['disc_dt']=pd.to_datetime(discounts['disc_dt'], format='%Y-%m-%d')\n",
    "sales1['call_dt']=pd.to_datetime(sales1['call_dt'], format='%Y-%m-%d')\n",
    "web_visits['visit_dt']=pd.to_datetime(web_visits['visit_dt'], format='%Y-%m-%d')\n",
    "orders['call_dt']=pd.to_datetime(orders['call_dt'], format='%Y-%m-%d')"
   ]
  },
  {
   "cell_type": "code",
   "execution_count": null,
   "metadata": {},
   "outputs": [],
   "source": [
    "# датафрейм по часам\n",
    "income_calls = income_calls.drop(['operator','phone_number'], axis =1)\n",
    "outcome_calls = outcome_calls.drop(['operator','phone_number'], axis =1)\n",
    "missing_calls = missing_calls.drop(['operator','phone_number'], axis =1)\n",
    "calls = pd.concat([income_calls,outcome_calls,missing_calls]).reset_index(drop=True)\n",
    "calls['year']  = calls['call_dt'].dt.year\n",
    "calls['weekday']  = calls['call_dt'].dt.dayofweek\n",
    "calls['month']  = calls['call_dt'].dt.month\n",
    "calls['hour'] = pd.DatetimeIndex(calls['call_time']).hour\n",
    "calls['hour'] = (calls['hour'].astype(int) + 1).astype(float)\n",
    "calls = calls.assign(number=1)\n",
    "calls = calls.sort_values(['call_dt', 'call_time']).reset_index(drop=True)\n",
    "calls.tail(10)"
   ]
  },
  {
   "cell_type": "code",
   "execution_count": null,
   "metadata": {},
   "outputs": [],
   "source": [
    "#датафрейм по дням\n",
    "inc = income_calls.groupby('call_dt')['id_call'].count().to_frame()\n",
    "out = outcome_calls.groupby('call_dt')['id_call'].count().to_frame()\n",
    "miss = missing_calls.groupby('call_dt')['id_call'].count().to_frame()\n",
    "all_calls = pd.merge(inc, out, on = 'call_dt', how = 'outer')\n",
    "all_calls = pd.merge(all_calls, miss, on = 'call_dt', how = 'outer')\n",
    "all_calls = pd.merge(all_calls, orders, on = 'call_dt', how = 'outer')\n",
    "discounts = discounts.rename(columns = {'disc_dt':'call_dt'})\n",
    "all_calls = pd.merge(all_calls, discounts, on = 'call_dt', how = 'outer')\n",
    "all_calls = all_calls.rename(columns = {'id_call_x':'income_calls','id_call_y':'outcome_calls', 'id_call':'missed_calls'})\n",
    "web_visits = web_visits.rename(columns = {'visit_dt':'call_dt'})\n",
    "all_calls = pd.merge(all_calls, web_visits, on = 'call_dt', how = 'outer')\n",
    "all_calls['sum_calls'] = all_calls['income_calls'].fillna(0)+all_calls['outcome_calls'].fillna(0)+all_calls['missed_calls'].fillna(0)\n",
    "all_calls [['income_calls','outcome_calls','missed_calls']] = all_calls [['income_calls','outcome_calls','missed_calls']].fillna(0)\n",
    "all_calls ['disc_type'].fillna('Нет', inplace = True)\n",
    "sales = sales1.groupby('call_dt')['chq_qty'].sum().to_frame()\n",
    "all_calls = pd.merge(all_calls, sales, on = 'call_dt', how = 'outer')\n",
    "all_calls['weekday']  = all_calls['call_dt'].dt.dayofweek\n",
    "all_calls['month']  = all_calls['call_dt'].dt.month\n",
    "all_calls['year']  = all_calls['call_dt'].dt.year\n",
    "\n",
    "for i, row in all_calls.iterrows():\n",
    "    if row['disc_type'] == 'Купон':\n",
    "        all_calls.at [i, 'discCOUPON'] = True\n",
    "    elif row['disc_type'] == '15 число':\n",
    "        all_calls.at [i, 'disc15'] = True\n",
    "    elif row['disc_type'] == 'ШОТ':\n",
    "        all_calls.at [i, 'discSHOT'] = True\n",
    "    else: pass\n",
    "\n",
    "all_calls[['discCOUPON', 'disc15', 'discSHOT']] = all_calls[['discCOUPON', 'disc15', 'discSHOT']].fillna(False)\n",
    "all_calls = all_calls.sort_values(['call_dt']).reset_index(drop=True)\n",
    "all_calls.drop(all_calls.tail(1).index,inplace=True)\n",
    "all_calls "
   ]
  },
  {
   "cell_type": "code",
   "execution_count": null,
   "metadata": {},
   "outputs": [],
   "source": [
    "status_2021 = calls[calls['year'] == 2021].groupby('call_status')['id_call'].count()\n",
    "status_2022 = calls[calls['year'] == 2022].groupby('call_status')['id_call'].count()\n",
    "status_2023 = calls[calls['year'] == 2023].groupby('call_status')['id_call'].count()\n",
    "\n",
    "status_calls = pd.concat([status_2021, status_2022, status_2023], axis=1).fillna(0)\n",
    "status_calls.columns = ['2021', '2022', '2023']\n",
    "pd.set_option('display.max_rows', None)\n",
    "status_calls = status_calls.reset_index()\n",
    "status_calls.columns = ['type', '2021', '2022', '2023']\n",
    "status_calls"
   ]
  },
  {
   "cell_type": "code",
   "execution_count": null,
   "metadata": {},
   "outputs": [],
   "source": [
    "fig, ax = plt.subplots(figsize=(20, 20))\n",
    "\n",
    "\n",
    "ax.barh(status_2021.index, status_2021.values, align='center', label='2021')\n",
    "ax.barh(status_2022.index, status_2022.values, align='center', label='2022')\n",
    "ax.barh(status_2023.index, status_2023.values, align='center', label='2023')\n",
    "\n",
    "\n",
    "ax.set_xlabel('Количество звонков')\n",
    "ax.set_ylabel('Статус звонка')\n",
    "ax.set_title('Столбчатая диаграмма по статусу звонков каждый год')\n",
    "\n",
    "ax.legend()\n",
    "\n",
    "plt.show()"
   ]
  },
  {
   "cell_type": "code",
   "execution_count": null,
   "metadata": {},
   "outputs": [],
   "source": [
    "region_calls = pd.concat([region_2021, region_2022, region_2023], axis=1).fillna(0)\n",
    "region_calls.columns = ['2021', '2022', '2023']\n",
    "pd.set_option('display.max_rows', None)\n",
    "region_calls = region_calls.reset_index()\n",
    "region_calls.columns = ['type', '2021', '2022', '2023']\n",
    "region_calls"
   ]
  },
  {
   "cell_type": "code",
   "execution_count": null,
   "metadata": {},
   "outputs": [],
   "source": [
    "region_2021 = calls[calls['year'] == 2021].groupby('region')['id_call'].count()\n",
    "region_2022 = calls[calls['year'] == 2022].groupby('region')['id_call'].count()\n",
    "region_2023 = calls[calls['year'] == 2023].groupby('region')['id_call'].count()\n",
    "\n",
    "fig, ax = plt.subplots(figsize=(50, 30))\n",
    "\n",
    "ax.barh(region_2021.index, region_2021.values, label='2021')\n",
    "ax.barh(region_2022.index, region_2022.values, label='2022')\n",
    "ax.barh(region_2023.index, region_2023.values, label='2023')\n",
    "\n",
    "\n",
    "ax.set_xlabel('Количество звонков')\n",
    "ax.set_ylabel('Регион звонка')\n",
    "ax.set_title('Столбчатая диаграмма по регионам звонков каждый год')\n",
    "\n",
    "ax.legend()\n",
    "\n",
    "plt.show()"
   ]
  },
  {
   "cell_type": "code",
   "execution_count": null,
   "metadata": {},
   "outputs": [],
   "source": [
    "types_to_calls = {'Адреса маг-ов/ Общая инф-ия по сети':'Информация по сети',\n",
    "       'Карта лояльности':'Выгода с Улыбкой',\n",
    "       'Интернет-магазин':'Интернет-магазин',\n",
    "       'Статус заказа':'Заказ', \n",
    "       'Возврат/обмен':'Заказ',\n",
    "       'Наличие товара':'Информация о товаре', \n",
    "       'Подарочный сертификат':'Выгода с Улыбкой', \n",
    "       'Вакансия':'Вакансия', \n",
    "       'Акции':'Выгода с Улыбкой',\n",
    "       'Сотрудник':'Сотрудники', \n",
    "       'Другое':'Другое', \n",
    "       'Общая информация':'Информация по сети', \n",
    "       'Жалоба':'Жалоба',\n",
    "       'Перевод на сотрудника ИМ':'Сотрудники', \n",
    "       'Звонок не состоялся':'Другое',\n",
    "       'Оставлен в магазине':'Другое', \n",
    "       'Наличие в магазине/ИМ':'Информация о товаре', \n",
    "       'Консультация':'Информация по сети',\n",
    "       'Коммерческое предложение':'Другое', \n",
    "       'Информация по доставке':'Заказ',\n",
    "       'Проблема в МП':'Интернет-магазин', \n",
    "       'Обучение нового сотрудника':'Сотрудники', \n",
    "       'Сделать заказ':'Заказ',\n",
    "       'Онлайн-оплата':'Интернет-магазин', \n",
    "       'Проблема на сайте':'Интернет-магазин', \n",
    "       'Информация по заказу':'Заказ',\n",
    "       'Хулиганы':'Другое', \n",
    "       'Отдел продаж':'Информация по сети', \n",
    "       'Дата доставки':'Заказ', \n",
    "       'Тишина':'Другое',\n",
    "       'Сервис СберМаркет':'Заказы со сторонних сервисов', \n",
    "       'Отменить заказ':'Заказ', \n",
    "       'Отмена заказа':'Заказ',\n",
    "       'Проверка ОПП':'Информация по сети', \n",
    "       'Благодарность':'Другое',\n",
    "       'Технический сбой в работе внутренних программ':'Жалоба',\n",
    "       'Статус \"Сотрудник\" Изменение данных':'Сотрудники', \n",
    "       'Кризис 2022':'Другое',\n",
    "       'Звонок без консультации':'Другое', \n",
    "       'Контакты с сотрудниками компании':'Сотрудники',\n",
    "       'Заказы PickupinStore':'Заказ', \n",
    "       'Консультация по заказу':'Заказ',\n",
    "       'Сотрудник Delivery':'Заказы со сторонних сервисов', \n",
    "       'Заказ AliExpress':'Заказы со сторонних сервисов',\n",
    "       'Оформление заказа Сайт':'Интернет-магазин',\n",
    "       'Проблема на Сайте':'Интернет-магазин', \n",
    "       'Новая версия МП':'Интернет-магазин', \n",
    "       'Перевод на сотрудника КЦ':'Сотрудники',\n",
    "       'Электронные чеки':'Другое',     \n",
    "       'Адреса маг-ов/ Режим работы / Общая инф-ия по сети':'Информация по сети',\n",
    "       'Жалоба на сотрудника':'Жалоба', \n",
    "       'Информация о товаре':'Информация о товаре',\n",
    "       'Оформление заказа в МП':'Заказ', \n",
    "       'Консультация по ИМ':'Интернет-магазин', \n",
    "       'Заказ ProSkidku':'Заказы со сторонних сервисов',\n",
    "       'Заказ  Delivery':'Заказы со сторонних сервисов', \n",
    "       'Заказ СберМегаМаркет':'Заказы со сторонних сервисов',\n",
    "       'МОБИЛИЗАЦИЯ':'Другое',\n",
    "       'СОЦ.СЕТИ / ВЗЛОМ':'Другое', \n",
    "       'Заказ Яндекс.Еда':'Заказы со сторонних сервисов', \n",
    "       'Жалоба/проблема':'Жалоба',\n",
    "       'Заказ OZON':'Заказы со сторонних сервисов', \n",
    "       'Кризис 2022 – Lamel':'Другое'}"
   ]
  },
  {
   "cell_type": "code",
   "execution_count": null,
   "metadata": {},
   "outputs": [],
   "source": [
    "calls['category'] = calls['call_status']\n",
    "calls['category'] = calls['category'].replace(types_to_calls)\n",
    "calls['category'] = calls['category'].fillna('Нет категории')\n",
    "calls.tail(10)"
   ]
  },
  {
   "cell_type": "code",
   "execution_count": null,
   "metadata": {},
   "outputs": [],
   "source": [
    "calls['category'].unique()"
   ]
  },
  {
   "cell_type": "code",
   "execution_count": null,
   "metadata": {},
   "outputs": [],
   "source": [
    "calls['duration_time_sec']=\\\n",
    "calls.duration_time.fillna('00:00:00').apply(lambda x:datetime.timedelta(hours= time.strptime(x,'%H:%M:%S').tm_hour,\n",
    "                                                       minutes= time.strptime(x,'%H:%M:%S').\n",
    "                                                       tm_min,seconds=time.strptime(x,'%H:%M:%S').tm_sec).total_seconds())\n",
    "calls.tail(10)"
   ]
  },
  {
   "cell_type": "code",
   "execution_count": null,
   "metadata": {},
   "outputs": [],
   "source": [
    "calls.loc[calls['category'] == 'Нет категории', 'category'] = calls['duration_time_sec'].apply(\n",
    "    lambda x: 'Другое' if x > 0 else 'Звонок не состоялся'\n",
    ")\n",
    "calls.loc[calls['id_call'].str.startswith('out-'), 'category'] = 'Исходящий звонок'\n",
    "\n",
    "\n",
    "calls.tail(10)"
   ]
  },
  {
   "cell_type": "code",
   "execution_count": null,
   "metadata": {},
   "outputs": [],
   "source": [
    "# топ категорий по количеству\n",
    "np.round(((calls.groupby('category')['id_call'].count())/(calls['id_call'].count())).sort_values(ascending=False),2) "
   ]
  },
  {
   "cell_type": "code",
   "execution_count": null,
   "metadata": {},
   "outputs": [],
   "source": [
    "# топ категорий по количеству 2023\n",
    "np.round(((calls[calls['year'] == 2023].groupby('category')['id_call'].count())/(calls[calls['year'] == 2023]['id_call'].count())).sort_values(ascending=False), 2)"
   ]
  },
  {
   "cell_type": "code",
   "execution_count": null,
   "metadata": {},
   "outputs": [],
   "source": [
    "# топ категорий по длительности\n",
    "calls.groupby('category')['duration_time_sec'].mean().sort_values(ascending=False)"
   ]
  },
  {
   "cell_type": "code",
   "execution_count": null,
   "metadata": {},
   "outputs": [],
   "source": [
    "# топ категорий по длительности 2023\n",
    "calls[calls['year'] == 2023].groupby('category')['duration_time_sec'].mean().sort_values(ascending=False)"
   ]
  },
  {
   "cell_type": "code",
   "execution_count": null,
   "metadata": {},
   "outputs": [],
   "source": [
    "df_count = calls.groupby(['call_dt', 'category']).agg({'category': 'count'}).rename(columns={'category': 'num_calls'}).reset_index()\n",
    "cal = pd.merge(df_count, all_calls[['call_dt','order_qty','qty','chq_qty','discSHOT','disc15','discCOUPON','weekday','month','year']], on = 'call_dt', how = 'outer')\n",
    "cal = cal.drop(cal.tail(20).index)\n",
    "cal['actiya'] = cal[['discSHOT', 'disc15', 'discCOUPON']].any(axis=1)\n",
    "cal.sort_values(['call_dt']).tail(10)"
   ]
  },
  {
   "cell_type": "code",
   "execution_count": null,
   "metadata": {},
   "outputs": [],
   "source": [
    "plt.figure(figsize=(50,10))\n",
    "plt.plot(all_calls['call_dt'], all_calls['income_calls'], label = 'входящие')"
   ]
  },
  {
   "cell_type": "code",
   "execution_count": null,
   "metadata": {},
   "outputs": [],
   "source": [
    "plt.figure(figsize=(50,10))\n",
    "plt.plot(all_calls['call_dt'], all_calls['outcome_calls'], label = 'исходящие') #почему-то стали больше звонить из колл-центра"
   ]
  },
  {
   "cell_type": "code",
   "execution_count": null,
   "metadata": {},
   "outputs": [],
   "source": [
    "df = calls[calls['category'] == 'Исходящий звонок']\n",
    "df = df.sort_values(['duration_time_sec']).reset_index(drop=True)\n",
    "df.head(20)"
   ]
  },
  {
   "cell_type": "code",
   "execution_count": null,
   "metadata": {},
   "outputs": [],
   "source": [
    "plt.figure(figsize=(50,15))\n",
    "plt.hist(df['duration_time_sec'], bins=1000, edgecolor='black')\n",
    "plt.xlim(0, 300)"
   ]
  },
  {
   "cell_type": "code",
   "execution_count": null,
   "metadata": {},
   "outputs": [],
   "source": [
    "plt.figure(figsize=(50,10))\n",
    "plt.plot(all_calls['call_dt'], all_calls['missed_calls'], label = 'пропущенные')"
   ]
  },
  {
   "cell_type": "code",
   "execution_count": null,
   "metadata": {},
   "outputs": [],
   "source": [
    "filtered_data = cal[cal['category'] == 'Заказ'] \n",
    "\n",
    "plt.figure(figsize=(50,10))\n",
    "plt.plot(filtered_data['call_dt'], filtered_data['num_calls'], label = 'звонки')"
   ]
  },
  {
   "cell_type": "code",
   "execution_count": null,
   "metadata": {},
   "outputs": [],
   "source": [
    "filtered_data = cal[cal['category'] == 'Заказы со сторонних сервисов']  \n",
    "\n",
    "plt.figure(figsize=(50,10))\n",
    "plt.plot(filtered_data['call_dt'], filtered_data['num_calls'], label = 'звонки')"
   ]
  },
  {
   "cell_type": "code",
   "execution_count": null,
   "metadata": {},
   "outputs": [],
   "source": [
    "filtered_data = cal[cal['category'] == 'Выгода с Улыбкой'] \n",
    "\n",
    "plt.figure(figsize=(50,10)) \n",
    "filtered_data['disc15'] = filtered_data.apply(lambda row: row['num_calls'] if row['disc15'] else 0, axis=1)\n",
    "filtered_data['discSHOT'] = filtered_data.apply(lambda row: row['num_calls'] if row['discSHOT'] else 0, axis=1)\n",
    "filtered_data['discCOUPON'] = filtered_data.apply(lambda row: row['num_calls'] if row['discCOUPON'] else 0, axis=1)\n",
    "plt.plot(filtered_data['call_dt'], filtered_data['num_calls'], label = 'звонки')\n",
    "plt.plot(filtered_data['call_dt'], filtered_data['disc15'], marker = 'o', linestyle = '', color = 'red')\n",
    "plt.plot(filtered_data['call_dt'], filtered_data['discSHOT'], marker = 'o', linestyle = '', color = 'orange')\n",
    "plt.plot(filtered_data['call_dt'], filtered_data['discCOUPON'], marker = 'o', linestyle = '', color = 'green')\n"
   ]
  },
  {
   "cell_type": "code",
   "execution_count": null,
   "metadata": {},
   "outputs": [],
   "source": [
    "filtered_data = cal[cal['category'] == 'Интернет-магазин']  \n",
    "\n",
    "plt.figure(figsize=(50,10))\n",
    "plt.plot(filtered_data['call_dt'], filtered_data['num_calls'], label = 'звонки')"
   ]
  },
  {
   "cell_type": "code",
   "execution_count": null,
   "metadata": {},
   "outputs": [],
   "source": [
    "filtered_data = cal[cal['category'] == 'Информация по сети'] \n",
    "\n",
    "plt.figure(figsize=(50,10))\n",
    "plt.plot(filtered_data['call_dt'], filtered_data['num_calls'], label = 'звонки')"
   ]
  },
  {
   "cell_type": "code",
   "execution_count": null,
   "metadata": {},
   "outputs": [],
   "source": [
    "filtered_data = cal[cal['category'] == 'Информация о товаре']  \n",
    "\n",
    "plt.figure(figsize=(50,10))\n",
    "plt.plot(filtered_data['call_dt'], filtered_data['num_calls'], label = 'звонки')"
   ]
  },
  {
   "cell_type": "code",
   "execution_count": null,
   "metadata": {},
   "outputs": [],
   "source": [
    "filtered_data = cal[cal['category'] == 'Вакансия'] \n",
    "\n",
    "plt.figure(figsize=(50,10))\n",
    "plt.plot(filtered_data['call_dt'], filtered_data['num_calls'], label = 'звонки')"
   ]
  },
  {
   "cell_type": "code",
   "execution_count": null,
   "metadata": {},
   "outputs": [],
   "source": [
    "filtered_data = cal[cal['category'] == 'Сотрудники'] \n",
    "\n",
    "plt.figure(figsize=(50,10))\n",
    "plt.plot(filtered_data['call_dt'], filtered_data['num_calls'], label = 'звонки')"
   ]
  },
  {
   "cell_type": "code",
   "execution_count": null,
   "metadata": {},
   "outputs": [],
   "source": [
    "filtered_data = cal[cal['category'] == 'Жалоба']  \n",
    "\n",
    "plt.figure(figsize=(50,10))\n",
    "plt.plot(filtered_data['call_dt'], filtered_data['num_calls'], label = 'звонки')"
   ]
  },
  {
   "cell_type": "code",
   "execution_count": null,
   "metadata": {},
   "outputs": [],
   "source": [
    "filtered_data = cal[cal['category'] == 'Другое']  \n",
    "\n",
    "plt.figure(figsize=(50,10))\n",
    "plt.plot(filtered_data['call_dt'], filtered_data['num_calls'], label = 'звонки')"
   ]
  },
  {
   "cell_type": "code",
   "execution_count": null,
   "metadata": {},
   "outputs": [],
   "source": [
    "filtered_data = cal[cal['category'] == 'Исходящий звонок'] \n",
    "\n",
    "plt.figure(figsize=(50,10))\n",
    "plt.plot(filtered_data['call_dt'], filtered_data['num_calls'], label = 'звонки')"
   ]
  },
  {
   "cell_type": "code",
   "execution_count": null,
   "metadata": {},
   "outputs": [],
   "source": [
    "filtered_data = cal[cal['category'] == 'Звонок не состоялся'] \n",
    "\n",
    "plt.figure(figsize=(50,10))\n",
    "plt.plot(filtered_data['call_dt'], filtered_data['num_calls'], label = 'звонки')"
   ]
  },
  {
   "cell_type": "markdown",
   "metadata": {},
   "source": [
    "## Корреляция и сезоность"
   ]
  },
  {
   "cell_type": "code",
   "execution_count": null,
   "metadata": {},
   "outputs": [],
   "source": [
    "correlation_matrix = all_calls[['sum_calls', 'qty', 'chq_qty', 'discSHOT', 'disc15', 'discCOUPON', 'order_qty']].corr()\n",
    "sns.heatmap(correlation_matrix, annot=True, cmap='coolwarm')"
   ]
  },
  {
   "cell_type": "code",
   "execution_count": null,
   "metadata": {},
   "outputs": [],
   "source": [
    "categories = cal['category'].unique()\n",
    "for category in categories:\n",
    "    subset = cal[cal['category'] == category]\n",
    "    correlation = subset[['num_calls', 'order_qty', 'qty', 'chq_qty', 'actiya']].corr()\n",
    "    print(category)\n",
    "    print(correlation)\n",
    "    print()"
   ]
  },
  {
   "cell_type": "code",
   "execution_count": null,
   "metadata": {},
   "outputs": [],
   "source": [
    "y21 = all_calls[all_calls['year'] == 2022]\n",
    "y21['disc15'] = y21.apply(lambda row: row['sum_calls'] if row['disc15'] else 0, axis=1)\n",
    "y21['discSHOT'] = y21.apply(lambda row: row['sum_calls'] if row['discSHOT'] else 0, axis=1)\n",
    "y21['discCOUPON'] = y21.apply(lambda row: row['sum_calls'] if row['discCOUPON'] else 0, axis=1)\n",
    "\n",
    "fig, ax = plt.subplots(figsize=(40, 10))\n",
    "plt.plot(y21['call_dt'], y21['sum_calls'], label = 'звонки')\n",
    "plt.plot(y21['call_dt'], y21['disc15'], marker = 'o', linestyle = '', color = 'red')\n",
    "plt.plot(y21['call_dt'], y21['discSHOT'], marker = 'o', linestyle = '', color = 'orange')\n",
    "plt.plot(y21['call_dt'], y21['discCOUPON'], marker = 'o', linestyle = '', color = 'green')\n"
   ]
  },
  {
   "cell_type": "code",
   "execution_count": null,
   "metadata": {},
   "outputs": [],
   "source": [
    "week1 = all_calls[all_calls['year'] == 2021].groupby('weekday')['sum_calls'].mean().to_frame() \n",
    "week2 = all_calls[all_calls['year'] == 2022].groupby('weekday')['sum_calls'].mean().to_frame() \n",
    "week3 = all_calls[all_calls['year'] == 2023].groupby('weekday')['sum_calls'].mean().to_frame() \n",
    "plt.plot(week1, color = 'red')\n",
    "plt.plot(week2, color = 'green')\n",
    "plt.plot(week3, color = 'blue')\n",
    "plt.show() # 0 - пн, 6 - вс. Они работают с 9 до 9 без вых, -> люди предпочитают звонить в начале недели"
   ]
  },
  {
   "cell_type": "code",
   "execution_count": null,
   "metadata": {},
   "outputs": [],
   "source": [
    "hour1 = calls[calls['year'] == 2021].groupby('hour')['number'].count().to_frame().astype(float)\n",
    "hour2 = calls[calls['year'] == 2022].groupby('hour')['number'].count().to_frame().astype(float)\n",
    "hour3 = calls[calls['year'] == 2023].groupby('hour')['number'].count().to_frame().astype(float)\n",
    "plt.plot(hour1)\n",
    "plt.plot(hour2)\n",
    "plt.plot(hour3)\n",
    "plt.show() # они работают с 9 до 9  -> люди предпочитают звонить в середине дня"
   ]
  },
  {
   "cell_type": "code",
   "execution_count": null,
   "metadata": {},
   "outputs": [],
   "source": [
    "month1 = all_calls[all_calls['year'] == 2021].groupby('month')['sum_calls'].mean().to_frame()\n",
    "month2 = all_calls[all_calls['year'] == 2022].groupby('month')['sum_calls'].mean().to_frame()\n",
    "month3 = all_calls[all_calls['year'] == 2023].groupby('month')['sum_calls'].mean().to_frame()\n",
    "plt.plot(month1, color = 'blue', label='2021')\n",
    "plt.plot(month2, color = 'crimson', label='2022')\n",
    "plt.plot(month3, color = 'green', label='2023')\n",
    "plt.xlabel('Месяц')\n",
    "plt.ylabel('Количество звонков')\n",
    "plt.title('Динамика звонков по годам')\n",
    "plt.legend()\n",
    "plt.show()"
   ]
  },
  {
   "cell_type": "code",
   "execution_count": null,
   "metadata": {},
   "outputs": [],
   "source": [
    "# X-В\n",
    "decompose_result = seasonal_decompose(all_calls['sum_calls'], period =30)\n",
    "decompose_result.plot()"
   ]
  },
  {
   "cell_type": "code",
   "execution_count": null,
   "metadata": {},
   "outputs": [],
   "source": [
    "# Д-Ф на стац\n",
    "result = adfuller(all_calls['sum_calls'])\n",
    "result"
   ]
  },
  {
   "cell_type": "markdown",
   "metadata": {},
   "source": [
    "## Прогноз \"Жалобa\""
   ]
  },
  {
   "cell_type": "code",
   "execution_count": null,
   "metadata": {},
   "outputs": [],
   "source": [
    "start_date = pd.to_datetime('2023-05-01')\n",
    "filtered_d = cal[cal['category'] == 'Жалоба']\n",
    "filtered_d1 = filtered_d[filtered_d['call_dt'] < start_date ]\n",
    "filtered_d1"
   ]
  },
  {
   "cell_type": "code",
   "execution_count": null,
   "metadata": {},
   "outputs": [],
   "source": [
    "model = COPOD(contamination=0.05)\n",
    "filtered_data1 = filtered_d1\n",
    "model.fit(filtered_data1['num_calls'].values.reshape(-1, 1))\n",
    "outliers = model.predict(filtered_data1['num_calls'].values.reshape(-1, 1))\n",
    "count = np.count_nonzero(outliers == 1)     \n",
    "filtered_data1['outliers'] = outliers\n",
    "filtered_data1 = filtered_data1.reset_index(drop=True)\n",
    "\n",
    "outl = filtered_data1.loc[filtered_data1['outliers'] == 1]\n",
    "outl"
   ]
  },
  {
   "cell_type": "code",
   "execution_count": null,
   "metadata": {},
   "outputs": [],
   "source": [
    "plt.figure(figsize=(50,10))\n",
    "plt.plot(filtered_data1['call_dt'], filtered_data1['num_calls'], label = 'звонки')\n",
    "plt.plot(outl['call_dt'], outl['num_calls'], marker = 'o', linestyle = '', label = 'звонки')"
   ]
  },
  {
   "cell_type": "code",
   "execution_count": null,
   "metadata": {},
   "outputs": [],
   "source": [
    "# Замена значений выбросов в столбце calls\n",
    "for i in range(len(filtered_data1)):\n",
    "    if filtered_data1.at[i, 'outliers'] == 1:\n",
    "        prev_mean = filtered_data1.at[max(i-2, 0), 'num_calls']\n",
    "        filtered_data1.at[i, 'num_calls'] = (prev_mean) \n",
    "\n",
    "filtered_d1 = filtered_data1       \n",
    "plt.figure(figsize=(50,10))\n",
    "plt.plot(filtered_data1['call_dt'], filtered_data1['num_calls'], label = 'звонки')"
   ]
  },
  {
   "cell_type": "code",
   "execution_count": null,
   "metadata": {},
   "outputs": [],
   "source": [
    "from statsmodels.tsa.holtwinters import ExponentialSmoothing, SimpleExpSmoothing, Holt"
   ]
  },
  {
   "cell_type": "code",
   "execution_count": null,
   "metadata": {},
   "outputs": [],
   "source": [
    "result = adfuller(filtered_d1['num_calls'])\n",
    "result"
   ]
  },
  {
   "cell_type": "code",
   "execution_count": null,
   "metadata": {},
   "outputs": [],
   "source": [
    "model = SimpleExpSmoothing(filtered_d1['num_calls'])\n",
    "forecast_complaints = pd.DataFrame(columns=[\"call_dt\", \"forc\"], dtype=float)\n",
    "forecast_complaints[\"call_dt\"] = pd.to_datetime(forecast_complaints[\"call_dt\"], format='%Y-%m-%d')\n",
    "forecast_complaints[\"forc\"] = forecast_complaints[\"forc\"].astype(float)\n",
    "forecast = model.fit().forecast(steps=120)\n",
    "for i, value in enumerate(forecast):\n",
    "    date = start_date + pd.DateOffset(days=i)\n",
    "    forecast_complaints.loc[i] = [date, value]\n",
    "    \n",
    "forecast_complaints"
   ]
  },
  {
   "cell_type": "code",
   "execution_count": null,
   "metadata": {},
   "outputs": [],
   "source": [
    "plt.figure(figsize=(16, 6))\n",
    "plt.plot(filtered_d['call_dt'], filtered_d['num_calls'], label='Actual')\n",
    "plt.plot(forecast_complaints['call_dt'], forecast_complaints['forc'], label='Forecast')\n",
    "plt.xlabel('Дата')\n",
    "plt.ylabel('Количество звонков')\n",
    "plt.title('Прогноз по категории \"Жалобы\"')\n",
    "plt.legend()\n",
    "plt.show()"
   ]
  },
  {
   "cell_type": "markdown",
   "metadata": {},
   "source": [
    "## Прогноз \"Заказы сторонних сервисов\""
   ]
  },
  {
   "cell_type": "code",
   "execution_count": null,
   "metadata": {},
   "outputs": [],
   "source": [
    "start_date = pd.to_datetime('2023-05-01')\n",
    "beg_date = pd.to_datetime('2022-09-30')\n",
    "filtered_d = cal[cal['category'] == 'Заказы со сторонних сервисов']\n",
    "filtered_d1 = filtered_d[(filtered_d['call_dt'] < start_date) & (filtered_d['call_dt'] > beg_date)]\n",
    "filtered_d1"
   ]
  },
  {
   "cell_type": "code",
   "execution_count": null,
   "metadata": {},
   "outputs": [],
   "source": [
    "model = COPOD(contamination=0.05)\n",
    "filtered_data1 = filtered_d1\n",
    "model.fit(filtered_data1['num_calls'].values.reshape(-1, 1))\n",
    "outliers = model.predict(filtered_data1['num_calls'].values.reshape(-1, 1))\n",
    "count = np.count_nonzero(outliers == 1)     \n",
    "filtered_data1['outliers'] = outliers\n",
    "filtered_data1 = filtered_data1.reset_index(drop=True)\n",
    "\n",
    "outl = filtered_data1.loc[filtered_data1['outliers'] == 1]\n",
    "outl"
   ]
  },
  {
   "cell_type": "code",
   "execution_count": null,
   "metadata": {},
   "outputs": [],
   "source": [
    "plt.figure(figsize=(50,10))\n",
    "plt.plot(filtered_data1['call_dt'], filtered_data1['num_calls'], label = 'звонки')\n",
    "plt.plot(outl['call_dt'], outl['num_calls'], marker = 'o', linestyle = '', label = 'звонки')\n"
   ]
  },
  {
   "cell_type": "code",
   "execution_count": null,
   "metadata": {},
   "outputs": [],
   "source": [
    "# Замена значений выбросов в столбце calls\n",
    "for i in range(len(filtered_data1)):\n",
    "    if filtered_data1.at[i, 'outliers'] == 1:\n",
    "        prev_mean = filtered_data1.at[max(i-2, 0), 'num_calls']\n",
    "        filtered_data1.at[i, 'num_calls'] = (prev_mean) \n",
    "\n",
    "filtered_d1 = filtered_data1       \n",
    "plt.figure(figsize=(50,10))\n",
    "plt.plot(filtered_data1['call_dt'], filtered_data1['num_calls'], label = 'звонки')"
   ]
  },
  {
   "cell_type": "code",
   "execution_count": null,
   "metadata": {},
   "outputs": [],
   "source": [
    "result = adfuller(filtered_d1['num_calls'])\n",
    "result"
   ]
  },
  {
   "cell_type": "code",
   "execution_count": null,
   "metadata": {},
   "outputs": [],
   "source": [
    "model = SimpleExpSmoothing(filtered_d1['num_calls'])\n",
    "forecast_marketplaces = pd.DataFrame(columns=[\"call_dt\", \"forc\"], dtype=float)\n",
    "forecast = model.fit().forecast(steps=120)\n",
    "for i, value in enumerate(forecast):\n",
    "    date = start_date + pd.DateOffset(days=i)\n",
    "    forecast_marketplaces.loc[i] = [date, value]\n",
    "forecast_marketplaces"
   ]
  },
  {
   "cell_type": "code",
   "execution_count": null,
   "metadata": {},
   "outputs": [],
   "source": [
    "plt.figure(figsize=(16, 6))\n",
    "plt.plot(filtered_d['call_dt'], filtered_d['num_calls'], label='Actual')\n",
    "plt.plot(forecast_marketplaces['call_dt'], forecast_marketplaces['forc'], label='Forecast')\n",
    "plt.xlabel('Дата')\n",
    "plt.ylabel('Количество звонков')\n",
    "plt.title('Прогноз по категории \"Заказы сторонних серверов\"')\n",
    "plt.legend()\n",
    "plt.show()"
   ]
  },
  {
   "cell_type": "markdown",
   "metadata": {},
   "source": [
    "## Прогноз \"Заказ\""
   ]
  },
  {
   "cell_type": "code",
   "execution_count": null,
   "metadata": {},
   "outputs": [],
   "source": [
    "start_date = pd.to_datetime('2023-05-01')\n",
    "beg_date = pd.to_datetime('2022-06-01')\n",
    "filtered_d = cal[cal['category'] == 'Заказ']\n",
    "filtered_d1 = filtered_d[(filtered_d['call_dt'] < start_date) & (filtered_d['call_dt'] > beg_date)]\n",
    "filtered_d1"
   ]
  },
  {
   "cell_type": "code",
   "execution_count": null,
   "metadata": {},
   "outputs": [],
   "source": [
    "model = COPOD(contamination=0.05)\n",
    "filtered_data1 = filtered_d1\n",
    "model.fit(filtered_data1['num_calls'].values.reshape(-1, 1))\n",
    "outliers = model.predict(filtered_data1['num_calls'].values.reshape(-1, 1))\n",
    "count = np.count_nonzero(outliers == 1)     \n",
    "filtered_data1['outliers'] = outliers\n",
    "filtered_data1 = filtered_data1.reset_index(drop=True)\n",
    "\n",
    "outl = filtered_data1.loc[filtered_data1['outliers'] == 1]\n",
    "outl"
   ]
  },
  {
   "cell_type": "code",
   "execution_count": null,
   "metadata": {},
   "outputs": [],
   "source": [
    "plt.figure(figsize=(50,10))\n",
    "plt.plot(filtered_data1['call_dt'], filtered_data1['num_calls'], label = 'звонки')\n",
    "plt.plot(outl['call_dt'], outl['num_calls'], marker = 'o', linestyle = '', label = 'звонки')"
   ]
  },
  {
   "cell_type": "code",
   "execution_count": null,
   "metadata": {},
   "outputs": [],
   "source": [
    "# Замена значений выбросов в столбце calls\n",
    "for i in range(len(filtered_data1)):\n",
    "    if filtered_data1.at[i, 'outliers'] == 1:\n",
    "        prev_mean = filtered_data1.at[max(i-2, 0), 'num_calls']\n",
    "        filtered_data1.at[i, 'num_calls'] = (prev_mean) \n",
    "\n",
    "filtered_d1 = filtered_data1       \n",
    "plt.figure(figsize=(50,10))\n",
    "plt.plot(filtered_data1['call_dt'], filtered_data1['num_calls'], label = 'звонки')"
   ]
  },
  {
   "cell_type": "code",
   "execution_count": null,
   "metadata": {},
   "outputs": [],
   "source": [
    "result = adfuller(filtered_d1['num_calls'])\n",
    "result"
   ]
  },
  {
   "cell_type": "code",
   "execution_count": null,
   "metadata": {},
   "outputs": [],
   "source": [
    "model = SimpleExpSmoothing(filtered_d1['num_calls'])\n",
    "forecast_order = pd.DataFrame(columns=[\"call_dt\", \"forc\"], dtype=float)\n",
    "forecast = model.fit().forecast(steps=120)\n",
    "for i, value in enumerate(forecast):\n",
    "    date = start_date + pd.DateOffset(days=i)\n",
    "    forecast_order.loc[i] = [date, value]\n",
    "forecast_order"
   ]
  },
  {
   "cell_type": "code",
   "execution_count": null,
   "metadata": {},
   "outputs": [],
   "source": [
    "plt.figure(figsize=(16, 6))\n",
    "plt.plot(filtered_d['call_dt'], filtered_d['num_calls'], label='Actual')\n",
    "plt.plot(forecast_order['call_dt'], forecast_order['forc'], label='Forecast')\n",
    "plt.xlabel('Дата')\n",
    "plt.ylabel('Количество заказов')\n",
    "plt.title('Прогноз по категории \"Заказ\"')\n",
    "plt.legend()\n",
    "plt.show()"
   ]
  },
  {
   "cell_type": "markdown",
   "metadata": {},
   "source": [
    "## Прогноз \"Информация по сети\""
   ]
  },
  {
   "cell_type": "code",
   "execution_count": null,
   "metadata": {},
   "outputs": [],
   "source": [
    "start_date = pd.to_datetime('2023-05-01')\n",
    "beg_date = pd.to_datetime('2022-07-01')\n",
    "filtered_d = cal[cal['category'] == 'Информация по сети']\n",
    "filtered_d1 = filtered_d[(filtered_d['call_dt'] < start_date) & (filtered_d['call_dt'] > beg_date)]\n",
    "filtered_d1"
   ]
  },
  {
   "cell_type": "code",
   "execution_count": null,
   "metadata": {},
   "outputs": [],
   "source": [
    "model = COPOD(contamination=0.05)\n",
    "filtered_data1 = filtered_d1\n",
    "model.fit(filtered_data1['num_calls'].values.reshape(-1, 1))\n",
    "outliers = model.predict(filtered_data1['num_calls'].values.reshape(-1, 1))\n",
    "count = np.count_nonzero(outliers == 1)     \n",
    "filtered_data1['outliers'] = outliers\n",
    "filtered_data1 = filtered_data1.reset_index(drop=True)\n",
    "\n",
    "outl = filtered_data1.loc[filtered_data1['outliers'] == 1]\n",
    "outl"
   ]
  },
  {
   "cell_type": "code",
   "execution_count": null,
   "metadata": {},
   "outputs": [],
   "source": [
    "plt.figure(figsize=(50,10))\n",
    "plt.plot(filtered_data1['call_dt'], filtered_data1['num_calls'], label = 'звонки')\n",
    "plt.plot(outl['call_dt'], outl['num_calls'], marker = 'o', linestyle = '', label = 'звонки')"
   ]
  },
  {
   "cell_type": "code",
   "execution_count": null,
   "metadata": {},
   "outputs": [],
   "source": [
    "# Замена значений выбросов в столбце calls\n",
    "for i in range(len(filtered_data1)):\n",
    "    if filtered_data1.at[i, 'outliers'] == 1:\n",
    "        prev_mean = filtered_data1.at[max(i-2, 0), 'num_calls']\n",
    "        filtered_data1.at[i, 'num_calls'] = (prev_mean) \n",
    "\n",
    "filtered_d1 = filtered_data1       \n",
    "plt.figure(figsize=(50,10))\n",
    "plt.plot(filtered_data1['call_dt'], filtered_data1['num_calls'], label = 'звонки')"
   ]
  },
  {
   "cell_type": "code",
   "execution_count": null,
   "metadata": {},
   "outputs": [],
   "source": [
    "result = adfuller(filtered_d1['num_calls'])\n",
    "result"
   ]
  },
  {
   "cell_type": "code",
   "execution_count": null,
   "metadata": {},
   "outputs": [],
   "source": [
    "model = SimpleExpSmoothing(filtered_d1['num_calls'])\n",
    "forecast_inf_store = pd.DataFrame(columns=[\"call_dt\", \"forc\"], dtype=float)\n",
    "forecast = model.fit().forecast(steps=120)\n",
    "for i, value in enumerate(forecast):\n",
    "    date = start_date + pd.DateOffset(days=i)\n",
    "    forecast_inf_store.loc[i] = [date, value]\n",
    "forecast_inf_store"
   ]
  },
  {
   "cell_type": "code",
   "execution_count": null,
   "metadata": {},
   "outputs": [],
   "source": [
    "plt.figure(figsize=(16, 6))\n",
    "plt.plot(filtered_d['call_dt'], filtered_d['num_calls'], label='Actual')\n",
    "plt.plot(forecast_inf_store['call_dt'], forecast_inf_store['forc'], label='Forecast')\n",
    "plt.xlabel('Дата')\n",
    "plt.ylabel('Количество звонков')\n",
    "plt.title('Прогноз по категории \"Информация по сети\"')\n",
    "plt.legend()\n",
    "plt.show()"
   ]
  },
  {
   "cell_type": "markdown",
   "metadata": {},
   "source": [
    "## Прогноз \"Звонок не состоялся\""
   ]
  },
  {
   "cell_type": "code",
   "execution_count": null,
   "metadata": {},
   "outputs": [],
   "source": [
    "start_date = pd.to_datetime('2023-05-01')\n",
    "beg_date = pd.to_datetime('2022-04-01')\n",
    "filtered_d = cal[cal['category'] == 'Звонок не состоялся']\n",
    "filtered_d1 = filtered_d[(filtered_d['call_dt'] < start_date) & (filtered_d['call_dt'] > beg_date)]\n",
    "filtered_d1"
   ]
  },
  {
   "cell_type": "code",
   "execution_count": null,
   "metadata": {},
   "outputs": [],
   "source": [
    "model = COPOD(contamination=0.05)\n",
    "filtered_data1 = filtered_d1\n",
    "model.fit(filtered_data1['num_calls'].values.reshape(-1, 1))\n",
    "outliers = model.predict(filtered_data1['num_calls'].values.reshape(-1, 1))\n",
    "count = np.count_nonzero(outliers == 1)     \n",
    "filtered_data1['outliers'] = outliers\n",
    "filtered_data1 = filtered_data1.reset_index(drop=True)\n",
    "\n",
    "outl = filtered_data1.loc[filtered_data1['outliers'] == 1]\n",
    "outl"
   ]
  },
  {
   "cell_type": "code",
   "execution_count": null,
   "metadata": {},
   "outputs": [],
   "source": [
    "plt.figure(figsize=(50,10))\n",
    "plt.plot(filtered_data1['call_dt'], filtered_data1['num_calls'], label = 'звонки')\n",
    "plt.plot(outl['call_dt'], outl['num_calls'], marker = 'o', linestyle = '', label = 'звонки')"
   ]
  },
  {
   "cell_type": "code",
   "execution_count": null,
   "metadata": {},
   "outputs": [],
   "source": [
    "# Замена значений выбросов в столбце calls\n",
    "for i in range(len(filtered_data1)):\n",
    "    if filtered_data1.at[i, 'outliers'] == 1:\n",
    "        prev_mean = filtered_data1.at[max(i-2, 0), 'num_calls']\n",
    "        filtered_data1.at[i, 'num_calls'] = (prev_mean) \n",
    "\n",
    "filtered_d1 = filtered_data1       \n",
    "plt.figure(figsize=(50,10))\n",
    "plt.plot(filtered_data1['call_dt'], filtered_data1['num_calls'], label = 'звонки')"
   ]
  },
  {
   "cell_type": "code",
   "execution_count": null,
   "metadata": {},
   "outputs": [],
   "source": [
    "result = adfuller(filtered_d1['num_calls'])\n",
    "result"
   ]
  },
  {
   "cell_type": "code",
   "execution_count": null,
   "metadata": {},
   "outputs": [],
   "source": [
    "model = SimpleExpSmoothing(filtered_d1['num_calls'])\n",
    "forecast_call_failed = pd.DataFrame(columns=[\"call_dt\", \"forc\"], dtype=float)\n",
    "forecast = model.fit().forecast(steps=120)\n",
    "for i, value in enumerate(forecast):\n",
    "    date = start_date + pd.DateOffset(days=i)\n",
    "    forecast_call_failed.loc[i] = [date, value]\n",
    "forecast_call_failed"
   ]
  },
  {
   "cell_type": "code",
   "execution_count": null,
   "metadata": {},
   "outputs": [],
   "source": [
    "plt.figure(figsize=(16, 6))\n",
    "plt.plot(filtered_d['call_dt'], filtered_d['num_calls'], label='Actual')\n",
    "plt.plot(forecast_call_failed['call_dt'], forecast_call_failed['forc'], label='Forecast')\n",
    "plt.xlabel('Дата')\n",
    "plt.ylabel('Количество звонков')\n",
    "plt.title('Прогноз по категории \"Звонок не состоялся\"')\n",
    "plt.legend()\n",
    "plt.show()"
   ]
  },
  {
   "cell_type": "markdown",
   "metadata": {},
   "source": [
    "## Прогноз \"Другое\""
   ]
  },
  {
   "cell_type": "code",
   "execution_count": null,
   "metadata": {},
   "outputs": [],
   "source": [
    "start_date = pd.to_datetime('2023-05-01')\n",
    "beg_date = pd.to_datetime('2021-07-30')\n",
    "filtered_d = cal[cal['category'] == 'Другое']\n",
    "filtered_d1 = filtered_d[(filtered_d['call_dt'] < start_date) & (filtered_d['call_dt'] > beg_date)]\n",
    "filtered_d1"
   ]
  },
  {
   "cell_type": "code",
   "execution_count": null,
   "metadata": {},
   "outputs": [],
   "source": [
    "model = COPOD(contamination=0.05)\n",
    "filtered_data1 = filtered_d1\n",
    "model.fit(filtered_data1['num_calls'].values.reshape(-1, 1))\n",
    "outliers = model.predict(filtered_data1['num_calls'].values.reshape(-1, 1))\n",
    "count = np.count_nonzero(outliers == 1)     \n",
    "filtered_data1['outliers'] = outliers\n",
    "filtered_data1 = filtered_data1.reset_index(drop=True)\n",
    "\n",
    "outl = filtered_data1.loc[filtered_data1['outliers'] == 1]\n",
    "outl"
   ]
  },
  {
   "cell_type": "code",
   "execution_count": null,
   "metadata": {},
   "outputs": [],
   "source": [
    "plt.figure(figsize=(50,10))\n",
    "plt.plot(filtered_data1['call_dt'], filtered_data1['num_calls'], label = 'звонки')\n",
    "plt.plot(outl['call_dt'], outl['num_calls'], marker = 'o', linestyle = '', label = 'звонки')"
   ]
  },
  {
   "cell_type": "code",
   "execution_count": null,
   "metadata": {},
   "outputs": [],
   "source": [
    "# Замена значений выбросов в столбце calls\n",
    "for i in range(len(filtered_data1)):\n",
    "    if filtered_data1.at[i, 'outliers'] == 1:\n",
    "        prev_mean = filtered_data1.at[max(i-2, 0), 'num_calls']\n",
    "        filtered_data1.at[i, 'num_calls'] = (prev_mean) \n",
    "\n",
    "filtered_d1 = filtered_data1       \n",
    "plt.figure(figsize=(50,10))\n",
    "plt.plot(filtered_data1['call_dt'], filtered_data1['num_calls'], label = 'звонки')"
   ]
  },
  {
   "cell_type": "code",
   "execution_count": null,
   "metadata": {},
   "outputs": [],
   "source": [
    "result = adfuller(filtered_d1['num_calls'])\n",
    "result"
   ]
  },
  {
   "cell_type": "code",
   "execution_count": null,
   "metadata": {},
   "outputs": [],
   "source": [
    "model = SimpleExpSmoothing(filtered_d1['num_calls'])\n",
    "forecast_other = pd.DataFrame(columns=[\"call_dt\", \"forc\"], dtype=float)\n",
    "forecast = model.fit().forecast(steps=120)\n",
    "for i, value in enumerate(forecast):\n",
    "    date = start_date + pd.DateOffset(days=i)\n",
    "    forecast_other.loc[i] = [date, value]\n",
    "forecast_other"
   ]
  },
  {
   "cell_type": "code",
   "execution_count": null,
   "metadata": {},
   "outputs": [],
   "source": [
    "plt.figure(figsize=(16, 6))\n",
    "plt.plot(filtered_d['call_dt'], filtered_d['num_calls'], label='Actual')\n",
    "plt.plot(forecast_other['call_dt'], forecast_other['forc'], label='Forecast')\n",
    "plt.xlabel('Дата')\n",
    "plt.ylabel('Количество звонков')\n",
    "plt.title('Прогноз по категории \"Другое\"')\n",
    "plt.legend()\n",
    "plt.show()"
   ]
  },
  {
   "cell_type": "markdown",
   "metadata": {},
   "source": [
    "## Прогноз \"Интернет-магазин\""
   ]
  },
  {
   "cell_type": "code",
   "execution_count": null,
   "metadata": {},
   "outputs": [],
   "source": [
    "start_date = pd.to_datetime('2023-05-01')\n",
    "beg_date = pd.to_datetime('2022-03-01')\n",
    "filtered_d = cal[cal['category'] == 'Интернет-магазин']\n",
    "filtered_d1 = filtered_d[(filtered_d['call_dt'] < start_date) & (filtered_d['call_dt'] > beg_date)]\n",
    "filtered_d1"
   ]
  },
  {
   "cell_type": "code",
   "execution_count": null,
   "metadata": {},
   "outputs": [],
   "source": [
    "model = COPOD(contamination=0.05)\n",
    "filtered_data1 = filtered_d1\n",
    "model.fit(filtered_data1['num_calls'].values.reshape(-1, 1))\n",
    "outliers = model.predict(filtered_data1['num_calls'].values.reshape(-1, 1))\n",
    "count = np.count_nonzero(outliers == 1)     \n",
    "filtered_data1['outliers'] = outliers\n",
    "filtered_data1 = filtered_data1.reset_index(drop=True)\n",
    "\n",
    "outl = filtered_data1.loc[filtered_data1['outliers'] == 1]\n",
    "outl"
   ]
  },
  {
   "cell_type": "code",
   "execution_count": null,
   "metadata": {},
   "outputs": [],
   "source": [
    "plt.figure(figsize=(50,10))\n",
    "plt.plot(filtered_data1['call_dt'], filtered_data1['num_calls'], label = 'звонки')\n",
    "plt.plot(outl['call_dt'], outl['num_calls'], marker = 'o', linestyle = '', label = 'звонки')"
   ]
  },
  {
   "cell_type": "code",
   "execution_count": null,
   "metadata": {},
   "outputs": [],
   "source": [
    "# Замена значений выбросов в столбце calls\n",
    "for i in range(len(filtered_data1)):\n",
    "    if filtered_data1.at[i, 'outliers'] == 1:\n",
    "        prev_mean = filtered_data1.at[max(i-2, 0), 'num_calls']\n",
    "        filtered_data1.at[i, 'num_calls'] = (prev_mean) \n",
    "\n",
    "filtered_d1 = filtered_data1       \n",
    "plt.figure(figsize=(50,10))\n",
    "plt.plot(filtered_data1['call_dt'], filtered_data1['num_calls'], label = 'звонки')"
   ]
  },
  {
   "cell_type": "code",
   "execution_count": null,
   "metadata": {},
   "outputs": [],
   "source": [
    "result = adfuller(filtered_d1['num_calls'])\n",
    "result"
   ]
  },
  {
   "cell_type": "code",
   "execution_count": null,
   "metadata": {},
   "outputs": [],
   "source": [
    "model = SimpleExpSmoothing(filtered_d1['num_calls'])\n",
    "forecast_online_store = pd.DataFrame(columns=[\"call_dt\", \"forc\"], dtype=float)\n",
    "forecast = model.fit().forecast(steps=120)\n",
    "for i, value in enumerate(forecast):\n",
    "    date = start_date + pd.DateOffset(days=i)\n",
    "    forecast_online_store.loc[i] = [date, value]\n",
    "forecast_online_store"
   ]
  },
  {
   "cell_type": "code",
   "execution_count": null,
   "metadata": {},
   "outputs": [],
   "source": [
    "plt.figure(figsize=(16, 6))\n",
    "plt.plot(filtered_d['call_dt'], filtered_d['num_calls'], label='Actual')\n",
    "plt.plot(forecast_online_store['call_dt'], forecast_online_store['forc'], label='Forecast')\n",
    "plt.xlabel('Дата')\n",
    "plt.ylabel('Количество звонков')\n",
    "plt.title('Прогноз по категории \"Интернет-магазин\"')\n",
    "plt.legend()\n",
    "plt.show()"
   ]
  },
  {
   "cell_type": "markdown",
   "metadata": {},
   "source": [
    "## Прогноз \"Информация о товаре\""
   ]
  },
  {
   "cell_type": "code",
   "execution_count": null,
   "metadata": {},
   "outputs": [],
   "source": [
    "start_date = pd.to_datetime('2023-05-01')\n",
    "beg_date = pd.to_datetime('2022-04-30')\n",
    "filtered_d = cal[cal['category'] == 'Информация о товаре']\n",
    "filtered_d1 = filtered_d[(filtered_d['call_dt'] < start_date) & (filtered_d['call_dt'] > beg_date)]\n",
    "filtered_d1"
   ]
  },
  {
   "cell_type": "code",
   "execution_count": null,
   "metadata": {},
   "outputs": [],
   "source": [
    "model = COPOD(contamination=0.05)\n",
    "filtered_data1 = filtered_d1\n",
    "model.fit(filtered_data1['num_calls'].values.reshape(-1, 1))\n",
    "outliers = model.predict(filtered_data1['num_calls'].values.reshape(-1, 1))\n",
    "count = np.count_nonzero(outliers == 1)     \n",
    "filtered_data1['outliers'] = outliers\n",
    "filtered_data1 = filtered_data1.reset_index(drop=True)\n",
    "\n",
    "outl = filtered_data1.loc[filtered_data1['outliers'] == 1]\n",
    "outl"
   ]
  },
  {
   "cell_type": "code",
   "execution_count": null,
   "metadata": {},
   "outputs": [],
   "source": [
    "plt.figure(figsize=(50,10))\n",
    "plt.plot(filtered_data1['call_dt'], filtered_data1['num_calls'], label = 'звонки')\n",
    "plt.plot(outl['call_dt'], outl['num_calls'], marker = 'o', linestyle = '', label = 'звонки')"
   ]
  },
  {
   "cell_type": "code",
   "execution_count": null,
   "metadata": {},
   "outputs": [],
   "source": [
    "# Замена значений выбросов в столбце calls\n",
    "for i in range(len(filtered_data1)):\n",
    "    if filtered_data1.at[i, 'outliers'] == 1:\n",
    "        prev_mean = filtered_data1.at[max(i-2, 0), 'num_calls']\n",
    "        filtered_data1.at[i, 'num_calls'] = (prev_mean) \n",
    "\n",
    "filtered_d1 = filtered_data1       \n",
    "plt.figure(figsize=(50,10))\n",
    "plt.plot(filtered_data1['call_dt'], filtered_data1['num_calls'], label = 'звонки')"
   ]
  },
  {
   "cell_type": "code",
   "execution_count": null,
   "metadata": {},
   "outputs": [],
   "source": [
    "result = adfuller(filtered_d1['num_calls'])\n",
    "result"
   ]
  },
  {
   "cell_type": "code",
   "execution_count": null,
   "metadata": {},
   "outputs": [],
   "source": [
    "model = SimpleExpSmoothing(filtered_d1['num_calls'])\n",
    "forecast_goods = pd.DataFrame(columns=[\"call_dt\", \"forc\"], dtype=float)\n",
    "forecast = model.fit().forecast(steps=120)\n",
    "for i, value in enumerate(forecast):\n",
    "    date = start_date + pd.DateOffset(days=i)\n",
    "    forecast_goods.loc[i] = [date, value]\n",
    "forecast_goods"
   ]
  },
  {
   "cell_type": "code",
   "execution_count": null,
   "metadata": {},
   "outputs": [],
   "source": [
    "plt.figure(figsize=(16, 6))\n",
    "plt.plot(filtered_d['call_dt'], filtered_d['num_calls'], label='Actual')\n",
    "plt.plot(forecast_goods['call_dt'], forecast_goods['forc'], label='Forecast')\n",
    "plt.xlabel('Дата')\n",
    "plt.ylabel('Сумма звонков')\n",
    "plt.title('Прогноз по категории \"Информация о товаре\"')\n",
    "plt.legend()\n",
    "plt.show()"
   ]
  },
  {
   "cell_type": "markdown",
   "metadata": {},
   "source": [
    "## Прогноз \"Выгода с Улыбкой\""
   ]
  },
  {
   "cell_type": "code",
   "execution_count": null,
   "metadata": {},
   "outputs": [],
   "source": [
    "# обучающая выборка\n",
    "filtered_data = cal[cal['category'] == 'Выгода с Улыбкой']\n",
    "filtered_data = filtered_data[filtered_data['call_dt'] > '2021-01-01']\n",
    "filtered_data = filtered_data.reset_index(drop=True)\n",
    "filtered_data"
   ]
  },
  {
   "cell_type": "code",
   "execution_count": null,
   "metadata": {},
   "outputs": [],
   "source": [
    "model = COPOD(contamination=0.025)\n",
    "filtered_data1 = filtered_data\n",
    "model.fit(filtered_data1['num_calls'].values.reshape(-1, 1))\n",
    "outliers = model.predict(filtered_data1['num_calls'].values.reshape(-1, 1))\n",
    "count = np.count_nonzero(outliers == 1)     \n",
    "filtered_data1['outliers'] = outliers\n",
    "filtered_data1 = filtered_data1.reset_index(drop=True)"
   ]
  },
  {
   "cell_type": "code",
   "execution_count": null,
   "metadata": {},
   "outputs": [],
   "source": [
    "# Построение графика\n",
    "outl = filtered_data1.loc[filtered_data1['outliers'] == 1]\n",
    "plt.figure(figsize=(50,10))\n",
    "plt.plot(filtered_data1['call_dt'], filtered_data1['num_calls'], label = 'звонки')\n",
    "plt.plot(outl['call_dt'], outl['num_calls'], marker = 'o', linestyle = '', label = 'звонки')"
   ]
  },
  {
   "cell_type": "code",
   "execution_count": null,
   "metadata": {},
   "outputs": [],
   "source": [
    "# Замена значений выбросов в столбце calls\n",
    "for i in range(len(filtered_data1)):\n",
    "    if filtered_data1.at[i, 'outliers'] == 1:\n",
    "        prev_mean = filtered_data1.at[max(i-2, 0), 'num_calls']\n",
    "        filtered_data1.at[i, 'num_calls'] = (prev_mean) \n",
    "\n",
    "plt.figure(figsize=(50,10))\n",
    "plt.plot(filtered_data1['call_dt'], filtered_data1['num_calls'], label = 'звонки')"
   ]
  },
  {
   "cell_type": "code",
   "execution_count": null,
   "metadata": {},
   "outputs": [],
   "source": [
    "model = Prophet(seasonality_mode='additive')\n",
    "model.add_seasonality(name='yearly', period=365, fourier_order=10)\n",
    "model.add_seasonality(name='monthly', period=30, fourier_order=10)\n",
    "model.add_seasonality(name='weekly', period=7, fourier_order=10)\n",
    "y = filtered_data[['call_dt','num_calls','actiya']].iloc[:-90]\n",
    "y = y.rename(columns={'call_dt': 'ds', 'num_calls': 'y'})\n",
    "model.fit(y)\n",
    "forecast_ds = model.make_future_dataframe(periods=120)\n",
    "forecast_benefit = model.predict(forecast_ds)\n",
    "forecast_benefit.tail()\n",
    "\n",
    "plt.figure(figsize=(16, 6))\n",
    "plt.plot(filtered_data['call_dt'], filtered_data['num_calls'], label='Actual')\n",
    "plt.plot(forecast_benefit['ds'][-120:], forecast_benefit['yhat'][-120:], label='Forecast')\n",
    "plt.xlabel('Дата')\n",
    "plt.ylabel('Количество звонков')\n",
    "plt.title('Прогноз по категории \"Акции\"')\n",
    "plt.legend()\n",
    "plt.show()"
   ]
  },
  {
   "cell_type": "code",
   "execution_count": null,
   "metadata": {},
   "outputs": [],
   "source": [
    "def smape(y_true, y_pred):\n",
    "    return 100/len(y_true) * np.sum(2 * np.abs(y_pred - y_true) / (np.abs(y_true) + np.abs(y_pred)))\n",
    "\n",
    "print (\"Ошибка модели:\", smape(filtered_data[\"num_calls\"][-212:], forecast[\"yhat\"][-212:]))"
   ]
  },
  {
   "cell_type": "code",
   "execution_count": null,
   "metadata": {},
   "outputs": [],
   "source": [
    "forecast_benefit = forecast_benefit.pivot_table(index = 'ds',values = 'yhat').reset_index()\n",
    "forecast_benefit = forecast_benefit.rename(columns={'ds':'call_dt', 'yhat':'benefit'})\n",
    "forecast_benefit"
   ]
  },
  {
   "cell_type": "markdown",
   "metadata": {},
   "source": [
    "## Прогноз \"Вакансия\""
   ]
  },
  {
   "cell_type": "code",
   "execution_count": null,
   "metadata": {},
   "outputs": [],
   "source": [
    "# обучающая выборка\n",
    "filtered_data = cal[cal['category'] == 'Вакансия']\n",
    "filtered_data = filtered_data[filtered_data['call_dt'] > '2023-01-01']\n",
    "filtered_data = filtered_data.reset_index(drop=True)\n",
    "filtered_data"
   ]
  },
  {
   "cell_type": "code",
   "execution_count": null,
   "metadata": {},
   "outputs": [],
   "source": [
    "model = COPOD(contamination=0.025)\n",
    "filtered_data1 = filtered_data\n",
    "model.fit(filtered_data1['num_calls'].values.reshape(-1, 1))\n",
    "outliers = model.predict(filtered_data1['num_calls'].values.reshape(-1, 1))\n",
    "count = np.count_nonzero(outliers == 1)     \n",
    "filtered_data1['outliers'] = outliers\n",
    "filtered_data1 = filtered_data1.reset_index(drop=True)"
   ]
  },
  {
   "cell_type": "code",
   "execution_count": null,
   "metadata": {},
   "outputs": [],
   "source": [
    "# Построение графика\n",
    "outl = filtered_data1.loc[filtered_data1['outliers'] == 1]\n",
    "plt.figure(figsize=(50,10))\n",
    "plt.plot(filtered_data1['call_dt'], filtered_data1['num_calls'], label = 'звонки')\n",
    "plt.plot(outl['call_dt'], outl['num_calls'], marker = 'o', linestyle = '', label = 'звонки')"
   ]
  },
  {
   "cell_type": "code",
   "execution_count": null,
   "metadata": {},
   "outputs": [],
   "source": [
    "# Замена значений выбросов в столбце calls\n",
    "for i in range(len(filtered_data1)):\n",
    "    if filtered_data1.at[i, 'outliers'] == 1:\n",
    "        prev_mean = filtered_data1.at[max(i-2, 0), 'num_calls']\n",
    "        filtered_data1.at[i, 'num_calls'] = (prev_mean) \n",
    "\n",
    "plt.figure(figsize=(50,10))\n",
    "plt.plot(filtered_data1['call_dt'], filtered_data1['num_calls'], label = 'звонки')"
   ]
  },
  {
   "cell_type": "code",
   "execution_count": null,
   "metadata": {},
   "outputs": [],
   "source": [
    "model = Prophet(seasonality_mode='multiplicative')\n",
    "model.add_seasonality(name='yearly', period=365, fourier_order=10)\n",
    "#model.add_seasonality(name='monthly', period=30, fourier_order=10)\n",
    "model.add_seasonality(name='weekly', period=7, fourier_order=10)\n",
    "y = filtered_data[['call_dt','num_calls','actiya']].iloc[:-105]\n",
    "y = y.rename(columns={'call_dt': 'ds', 'num_calls': 'y'})\n",
    "model.fit(y)\n",
    "forecast_ds = model.make_future_dataframe(periods=120)\n",
    "forecast_vacancy = model.predict(forecast_ds)\n",
    "forecast_vacancy.tail()\n",
    "\n",
    "plt.figure(figsize=(16, 6))\n",
    "plt.plot(filtered_data['call_dt'], filtered_data['num_calls'], label='Actual')\n",
    "plt.plot(forecast_vacancy['ds'][-120:], forecast_vacancy['yhat'][-120:], label='Forecast')\n",
    "plt.xlabel('Дата')\n",
    "plt.ylabel('Количество звонков')\n",
    "plt.title('Прогноз по категории \"Вакансии\"')\n",
    "plt.legend()\n",
    "plt.show()"
   ]
  },
  {
   "cell_type": "code",
   "execution_count": null,
   "metadata": {},
   "outputs": [],
   "source": [
    "def smape(y_true, y_pred):\n",
    "    return 100/len(y_true) * np.sum(2 * np.abs(y_pred - y_true) / (np.abs(y_true) + np.abs(y_pred)))\n",
    "\n",
    "print (\"Ошибка модели:\", smape(filtered_data[\"num_calls\"][-212:], forecast_vacancy[\"yhat\"][-212:]))"
   ]
  },
  {
   "cell_type": "code",
   "execution_count": null,
   "metadata": {},
   "outputs": [],
   "source": [
    "forecast_vacancy = forecast_vacancy.pivot_table(index = 'ds',values = 'yhat').reset_index()\n",
    "forecast_vacancy = forecast_vacancy.rename(columns={'ds':'call_dt', 'yhat':'vacancy'})\n",
    "forecast_vacancy"
   ]
  },
  {
   "cell_type": "markdown",
   "metadata": {},
   "source": [
    "## Прогноз \"Сотрудники\""
   ]
  },
  {
   "cell_type": "code",
   "execution_count": null,
   "metadata": {},
   "outputs": [],
   "source": [
    "# обучающая выборка\n",
    "filtered_data = cal[cal['category'] == 'Сотрудники']\n",
    "filtered_data = filtered_data[filtered_data['call_dt'] > '2022-07-01']\n",
    "filtered_data = filtered_data.reset_index(drop=True)\n",
    "filtered_data"
   ]
  },
  {
   "cell_type": "code",
   "execution_count": null,
   "metadata": {},
   "outputs": [],
   "source": [
    "model = COPOD(contamination=0.025)\n",
    "filtered_data1 = filtered_data\n",
    "model.fit(filtered_data1['num_calls'].values.reshape(-1, 1))\n",
    "outliers = model.predict(filtered_data1['num_calls'].values.reshape(-1, 1))\n",
    "count = np.count_nonzero(outliers == 1)     \n",
    "filtered_data1['outliers'] = outliers\n",
    "filtered_data1 = filtered_data1.reset_index(drop=True)"
   ]
  },
  {
   "cell_type": "code",
   "execution_count": null,
   "metadata": {},
   "outputs": [],
   "source": [
    "# Построение графика\n",
    "outl = filtered_data1.loc[filtered_data1['outliers'] == 1]\n",
    "plt.figure(figsize=(50,10))\n",
    "plt.plot(filtered_data1['call_dt'], filtered_data1['num_calls'], label = 'звонки')\n",
    "plt.plot(outl['call_dt'], outl['num_calls'], marker = 'o', linestyle = '', label = 'звонки')"
   ]
  },
  {
   "cell_type": "code",
   "execution_count": null,
   "metadata": {},
   "outputs": [],
   "source": [
    "# Замена значений выбросов в столбце calls\n",
    "for i in range(len(filtered_data1)):\n",
    "    if filtered_data1.at[i, 'outliers'] == 1:\n",
    "        prev_mean = filtered_data1.at[max(i-2, 0), 'num_calls']\n",
    "        filtered_data1.at[i, 'num_calls'] = (prev_mean) \n",
    "\n",
    "plt.figure(figsize=(50,10))\n",
    "plt.plot(filtered_data1['call_dt'], filtered_data1['num_calls'], label = 'звонки')"
   ]
  },
  {
   "cell_type": "code",
   "execution_count": null,
   "metadata": {},
   "outputs": [],
   "source": [
    "model = Prophet(seasonality_mode='additive')\n",
    "model.add_seasonality(name='yearly', period=365, fourier_order=10)\n",
    "#model.add_seasonality(name='monthly', period=30, fourier_order=10)\n",
    "model.add_seasonality(name='weekly', period=7, fourier_order=10)\n",
    "y = filtered_data[['call_dt','num_calls','actiya']].iloc[:-90]\n",
    "y = y.rename(columns={'call_dt': 'ds', 'num_calls': 'y'})\n",
    "model.fit(y)\n",
    "forecast_ds = model.make_future_dataframe(periods=120)\n",
    "forecast_staff = model.predict(forecast_ds)\n",
    "forecast_staff.tail()\n",
    "\n",
    "plt.figure(figsize=(16, 6))\n",
    "plt.plot(filtered_data['call_dt'], filtered_data['num_calls'], label='Actual')\n",
    "plt.plot(forecast_staff['ds'][-120:], forecast_staff['yhat'][-120:], label='Forecast')\n",
    "plt.xlabel('Дата')\n",
    "plt.ylabel('Количество звонков')\n",
    "plt.title('Проноз по категории \"Сотрудники\"')\n",
    "plt.legend()\n",
    "plt.show()"
   ]
  },
  {
   "cell_type": "code",
   "execution_count": null,
   "metadata": {},
   "outputs": [],
   "source": [
    "def smape(y_true, y_pred):\n",
    "    return 100/len(y_true) * np.sum(2 * np.abs(y_pred - y_true) / (np.abs(y_true) + np.abs(y_pred)))\n",
    "\n",
    "print (\"Ошибка модели:\", smape(filtered_data[\"num_calls\"][-212:], forecast_staff[\"yhat\"][-212:]))"
   ]
  },
  {
   "cell_type": "code",
   "execution_count": null,
   "metadata": {},
   "outputs": [],
   "source": [
    "forecast_staff = forecast_staff.pivot_table(index = 'ds',values = 'yhat').reset_index()\n",
    "forecast_staff = forecast_staff.rename(columns={'ds':'call_dt', 'yhat':'staff'})\n",
    "forecast_staff"
   ]
  },
  {
   "cell_type": "markdown",
   "metadata": {},
   "source": [
    "##       "
   ]
  },
  {
   "cell_type": "markdown",
   "metadata": {},
   "source": [
    "## Формирование таблицы с прогнозами по категориям"
   ]
  },
  {
   "cell_type": "code",
   "execution_count": null,
   "metadata": {},
   "outputs": [],
   "source": [
    "merged_df = pd.merge(forecast_complaints, forecast_marketplaces, on='call_dt')\n",
    "merged_1 = pd.merge(merged_df, forecast_order, on='call_dt')\n",
    "merged_2 = pd.merge(merged_1, forecast_inf_store, on='call_dt')\n",
    "merged_3 = pd.merge(merged_2, forecast_call_failed, on='call_dt')\n",
    "merged_4 = pd.merge(merged_3, forecast_other, on='call_dt')\n",
    "merged_5 = pd.merge(merged_4, forecast_online_store, on='call_dt')\n",
    "merged_6 = pd.merge(merged_5, forecast_goods, on='call_dt')"
   ]
  },
  {
   "cell_type": "code",
   "execution_count": null,
   "metadata": {},
   "outputs": [],
   "source": [
    "merged_6.set_axis(['call_dt', 'complaints', 'marketplaces', 'order', 'inf_store', 'call_failed', 'other', 'online_store', 'goods'], axis=1, inplace=True)\n",
    "merged_7 = pd.merge(merged_6, forecast_staff, on='call_dt')\n",
    "merged_8 = pd.merge(merged_7, forecast_benefit, on='call_dt')\n",
    "forecast_table = pd.merge(merged_8, forecast_vacancy, on='call_dt')\n",
    "forecast_table['sum'] = forecast_table['complaints'] + forecast_table['marketplaces'] + forecast_table['order'] + forecast_table['inf_store'] +forecast_table['call_failed'] + forecast_table['other'] + forecast_table['online_store'] + forecast_table['goods']+ forecast_table['staff']+ forecast_table['benefit']+ forecast_table['vacancy']"
   ]
  },
  {
   "cell_type": "code",
   "execution_count": null,
   "metadata": {
    "scrolled": false
   },
   "outputs": [],
   "source": [
    "forecast_table"
   ]
  },
  {
   "cell_type": "code",
   "execution_count": null,
   "metadata": {},
   "outputs": [],
   "source": [
    "forecast_line = forecast_table.pivot_table(index='call_dt', values='sum').reset_index()\n",
    "\n",
    "\n",
    "plt.figure(figsize=(50,10))\n",
    "plt.plot(forecast_line['call_dt'], forecast_line['sum'], label = 'Прогноз звонков')\n",
    "plt.plot(all_calls['call_dt'], all_calls['sum_calls'], label = 'Прогноз звонков')"
   ]
  }
 ],
 "metadata": {
  "kernelspec": {
   "display_name": "Python 3 (ipykernel)",
   "language": "python",
   "name": "python3"
  },
  "language_info": {
   "codemirror_mode": {
    "name": "ipython",
    "version": 3
   },
   "file_extension": ".py",
   "mimetype": "text/x-python",
   "name": "python",
   "nbconvert_exporter": "python",
   "pygments_lexer": "ipython3",
   "version": "3.9.13"
  }
 },
 "nbformat": 4,
 "nbformat_minor": 4
}
